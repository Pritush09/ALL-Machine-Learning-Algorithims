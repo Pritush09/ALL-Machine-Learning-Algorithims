{
  "nbformat": 4,
  "nbformat_minor": 0,
  "metadata": {
    "colab": {
      "provenance": [],
      "authorship_tag": "ABX9TyPTWycVeaRbWyXPkiiG7eSZ",
      "include_colab_link": true
    },
    "kernelspec": {
      "name": "python3",
      "display_name": "Python 3"
    },
    "language_info": {
      "name": "python"
    }
  },
  "cells": [
    {
      "cell_type": "markdown",
      "metadata": {
        "id": "view-in-github",
        "colab_type": "text"
      },
      "source": [
        "<a href=\"https://colab.research.google.com/github/Pritush09/ALL-Machine-Learning-Algorithims/blob/master/filtering_the_backgorund_of_video_other_than_the_object_moving.ipynb\" target=\"_parent\"><img src=\"https://colab.research.google.com/assets/colab-badge.svg\" alt=\"Open In Colab\"/></a>"
      ]
    },
    {
      "cell_type": "code",
      "execution_count": null,
      "metadata": {
        "id": "oEBQmQOVEkE9"
      },
      "outputs": [],
      "source": [
        "import cv2\n",
        "import numpy as np\n",
        "import pandas as pd"
      ]
    },
    {
      "cell_type": "code",
      "source": [
        "im = cv2.imread('/content/drift road.jpg')\n",
        "video = cv2.VideoCapture('/content/Camaro SS Drifting Green Screen Footage - Trim.mp4')"
      ],
      "metadata": {
        "id": "1zz8k6n9FC9e"
      },
      "execution_count": 10,
      "outputs": []
    },
    {
      "cell_type": "code",
      "source": [
        "im.shape"
      ],
      "metadata": {
        "colab": {
          "base_uri": "https://localhost:8080/"
        },
        "id": "-4XF4PcgFOun",
        "outputId": "24be172e-2ec9-4564-b5b9-e37003092e7d"
      },
      "execution_count": 11,
      "outputs": [
        {
          "output_type": "execute_result",
          "data": {
            "text/plain": [
              "(408, 612, 3)"
            ]
          },
          "metadata": {},
          "execution_count": 11
        }
      ]
    },
    {
      "cell_type": "code",
      "source": [
        "height , width = im.shape[:2]\n",
        "height  ,  width"
      ],
      "metadata": {
        "colab": {
          "base_uri": "https://localhost:8080/"
        },
        "id": "W3nuFOyBFSqB",
        "outputId": "011abc27-df06-4120-f47e-6b69eb3b84e9"
      },
      "execution_count": 12,
      "outputs": [
        {
          "output_type": "execute_result",
          "data": {
            "text/plain": [
              "(408, 612)"
            ]
          },
          "metadata": {},
          "execution_count": 12
        }
      ]
    },
    {
      "cell_type": "code",
      "source": [
        "from google.colab.patches import cv2_imshow\n",
        "# cv2_imshow(im)\n",
        "# this for the display of the image"
      ],
      "metadata": {
        "id": "N8VATEh9FZMO"
      },
      "execution_count": 13,
      "outputs": []
    },
    {
      "cell_type": "code",
      "source": [
        "im [101,101]"
      ],
      "metadata": {
        "colab": {
          "base_uri": "https://localhost:8080/"
        },
        "id": "tmz3atNJF-U6",
        "outputId": "84bf8257-842a-43ca-8a95-c892b1ad0385"
      },
      "execution_count": null,
      "outputs": [
        {
          "output_type": "execute_result",
          "data": {
            "text/plain": [
              "array([41, 29, 17], dtype=uint8)"
            ]
          },
          "metadata": {},
          "execution_count": 8
        }
      ]
    },
    {
      "cell_type": "code",
      "source": [
        "video.read()"
      ],
      "metadata": {
        "colab": {
          "base_uri": "https://localhost:8080/"
        },
        "id": "pNPfCvWsc3Me",
        "outputId": "53617025-d75d-46b5-8293-c1200fbb78e3"
      },
      "execution_count": 14,
      "outputs": [
        {
          "output_type": "execute_result",
          "data": {
            "text/plain": [
              "(True, array([[[  5, 212,  38],\n",
              "         [  5, 212,  38],\n",
              "         [  5, 212,  38],\n",
              "         ...,\n",
              "         [  5, 212,  38],\n",
              "         [  5, 212,  38],\n",
              "         [  5, 212,  38]],\n",
              " \n",
              "        [[  5, 212,  38],\n",
              "         [  5, 212,  38],\n",
              "         [  5, 212,  38],\n",
              "         ...,\n",
              "         [  5, 212,  38],\n",
              "         [  5, 212,  38],\n",
              "         [  5, 212,  38]],\n",
              " \n",
              "        [[  5, 212,  38],\n",
              "         [  5, 212,  38],\n",
              "         [  5, 212,  38],\n",
              "         ...,\n",
              "         [  5, 212,  38],\n",
              "         [  5, 212,  38],\n",
              "         [  5, 212,  38]],\n",
              " \n",
              "        ...,\n",
              " \n",
              "        [[  5, 212,  38],\n",
              "         [  5, 212,  38],\n",
              "         [  5, 212,  38],\n",
              "         ...,\n",
              "         [  5, 212,  38],\n",
              "         [  5, 212,  38],\n",
              "         [  5, 212,  38]],\n",
              " \n",
              "        [[  5, 212,  38],\n",
              "         [  5, 212,  38],\n",
              "         [  5, 212,  38],\n",
              "         ...,\n",
              "         [  5, 212,  38],\n",
              "         [  5, 212,  38],\n",
              "         [  5, 212,  38]],\n",
              " \n",
              "        [[  5, 212,  38],\n",
              "         [  5, 212,  38],\n",
              "         [  5, 212,  38],\n",
              "         ...,\n",
              "         [  5, 212,  38],\n",
              "         [  5, 212,  38],\n",
              "         [  5, 212,  38]]], dtype=uint8))"
            ]
          },
          "metadata": {},
          "execution_count": 14
        }
      ]
    },
    {
      "cell_type": "code",
      "source": [
        "ret , frame  =  video.read()\n",
        "# ret is for the knowledge that the video was read succesfully"
      ],
      "metadata": {
        "id": "VGrN7_O5GI2D"
      },
      "execution_count": 15,
      "outputs": []
    },
    {
      "cell_type": "code",
      "source": [
        "frame = cv2.resize(frame , (640,480))\n",
        "image = cv2.resize(im,(640,480))"
      ],
      "metadata": {
        "id": "_UK0TRlzdje6"
      },
      "execution_count": 16,
      "outputs": []
    },
    {
      "cell_type": "code",
      "source": [
        "u_green = np.array([104,153,70])\n",
        "l_green = np.array([30,30,0])\n",
        "# this is for setting the lower bound and upper bound of green as the color green in backround may vary due to shadows and other things"
      ],
      "metadata": {
        "id": "Ip7LjBtRfNKE"
      },
      "execution_count": 17,
      "outputs": []
    },
    {
      "cell_type": "code",
      "source": [
        "# mask it is to filter out the green colur ranging between the given upper range and the lower range of the green in the video\n",
        "mask = cv2.inRange(frame , l_green, u_green)\n",
        "# now the green part of the image is highlited as white as 1 for us now as we have performed a mask operation on it"
      ],
      "metadata": {
        "id": "4i6MEx0PhMfl"
      },
      "execution_count": 18,
      "outputs": []
    },
    {
      "cell_type": "code",
      "source": [
        "res = cv2.bitwise_and(frame , frame, mask = mask)"
      ],
      "metadata": {
        "id": "uAnEgXiYim6j"
      },
      "execution_count": 20,
      "outputs": []
    },
    {
      "cell_type": "code",
      "source": [],
      "metadata": {
        "id": "W5tGVh-MjJA2"
      },
      "execution_count": null,
      "outputs": []
    }
  ]
}