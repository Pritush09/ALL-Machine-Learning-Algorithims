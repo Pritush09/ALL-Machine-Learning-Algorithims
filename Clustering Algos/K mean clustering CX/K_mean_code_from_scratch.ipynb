{
 "cells": [
  {
   "cell_type": "code",
   "execution_count": 1,
   "id": "a6c75278",
   "metadata": {},
   "outputs": [],
   "source": [
    "import pandas as pd\n",
    "import numpy as np\n",
    "from sklearn.model_selection import train_test_split\n",
    "import matplotlib.pyplot as plt\n",
    "%matplotlib inline\n",
    "df = pd.read_csv('https://raw.githubusercontent.com/campusx-official/100-days-of-machine-learning/main/kmeans/student_clustering.csv')"
   ]
  },
  {
   "cell_type": "code",
   "execution_count": 2,
   "id": "bdce1a2d",
   "metadata": {},
   "outputs": [
    {
     "data": {
      "text/plain": [
       "<matplotlib.collections.PathCollection at 0x27aed021360>"
      ]
     },
     "execution_count": 2,
     "metadata": {},
     "output_type": "execute_result"
    },
    {
     "data": {
      "image/png": "[encoded data removed]",
      "text/plain": [
       "<Figure size 432x288 with 1 Axes>"
      ]
     },
     "metadata": {
      "needs_background": "light"
     },
     "output_type": "display_data"
    }
   ],
   "source": [
    "plt.scatter(df['cgpa'],df['iq'])"
   ]
  },
  {
   "cell_type": "code",
   "execution_count": 3,
   "id": "19c33053",
   "metadata": {},
   "outputs": [
    {
     "data": {
      "text/plain": [
       "(200, 2)"
      ]
     },
     "execution_count": 3,
     "metadata": {},
     "output_type": "execute_result"
    }
   ],
   "source": [
    "df.shape"
   ]
  },
  {
   "cell_type": "code",
   "execution_count": 34,
   "id": "478be5fb",
   "metadata": {},
   "outputs": [
    {
     "data": {
      "text/plain": [
       "cgpa    0\n",
       "iq      0\n",
       "dtype: int64"
      ]
     },
     "execution_count": 34,
     "metadata": {},
     "output_type": "execute_result"
    }
   ],
   "source": [
    "df.isnull().sum()"
   ]
  },
  {
   "cell_type": "code",
   "execution_count": 4,
   "id": "ad08dc99",
   "metadata": {},
   "outputs": [],
   "source": [
    "X= df.iloc[:,:].values# values kiye taki hata sake dataframe ke format se "
   ]
  },
  {
   "cell_type": "code",
   "execution_count": 12,
   "id": "6ad3b316",
   "metadata": {},
   "outputs": [
    {
     "data": {
      "text/plain": [
       "array([[  5.13,  88.  ],\n",
       "       [  5.9 , 113.  ],\n",
       "       [  8.36,  93.  ],\n",
       "       [  8.27,  97.  ]])"
      ]
     },
     "execution_count": 12,
     "metadata": {},
     "output_type": "execute_result"
    }
   ],
   "source": [
    "X[:4]"
   ]
  },
  {
   "cell_type": "code",
   "execution_count": 13,
   "id": "e218c470",
   "metadata": {},
   "outputs": [],
   "source": [
    "# Y me split nahi kiye"
   ]
  },
  {
   "cell_type": "code",
   "execution_count": 14,
   "id": "ee0ba021",
   "metadata": {},
   "outputs": [],
   "source": [
    "#for row in X:\n",
    "   # print(row)"
   ]
  },
  {
   "cell_type": "code",
   "execution_count": 15,
   "id": "eb8072a3",
   "metadata": {},
   "outputs": [],
   "source": [
    "import random"
   ]
  },
  {
   "cell_type": "code",
   "execution_count": 50,
   "id": "b1952480",
   "metadata": {},
   "outputs": [],
   "source": [
    "\n",
    "class KMean:\n",
    "    def __init__(self,n_clusters=2,max_iter=100):\n",
    "        self.n_clusters=n_clusters\n",
    "        self.max_iter= max_iter\n",
    "        self.centroids = None\n",
    "    def fit_predict(self,X):\n",
    "        random_index = random.sample(range(0,X.shape[0]),self.n_clusters)\n",
    "        self.centroids = X[random_index]\n",
    "        #print(self.centroids)\n",
    "        for i in range(self.max_iter):\n",
    "            # assign clusters \n",
    "            cluster_group = self.assign_clusters(X)\n",
    "            old_centroids = self.centroids\n",
    "            # move centroids \n",
    "            self.centroids = self.move_centroids(X,cluster_group)\n",
    "            # check finish\n",
    "            if (old_centroids == self.centroids).all():\n",
    "                break\n",
    "        return cluster_group\n",
    "            \n",
    "    def assign_clusters(self,X):\n",
    "        cluster_group = []# 2 cluster he hamare pass toh har point ka in 2 cluster se distance calculate karna hoga \n",
    "        distance = []\n",
    "        for row in X:\n",
    "            for centeroid in self.centroids:# eucledian distance claculate karna hoga\n",
    "                distance.append(np.sqrt(np.dot(row-centeroid,row-centeroid)))\n",
    "            #print(distance)\n",
    "            min_distance = min(distance)\n",
    "            index_pos = distance.index(min_distance)\n",
    "            #print(index_pos)\n",
    "            cluster_group.append(index_pos)\n",
    "            \n",
    "            distance.clear()\n",
    "        return np.array(cluster_group)\n",
    "    def move_centroids(self,X,cluster_group):# yaha pe bass sara index_pos ka mean nikalna he 0 ka alag aur 1 ka alag\n",
    "        new_centroids = [] # yaha pe 2 cluster the par kalko jayada agaya toh uske liye kitne unique cluster he\n",
    "        # vo nikalna hoga\n",
    "        cluster_type = np.unique(cluster_group)\n",
    "        for types in cluster_type:\n",
    "            new_centroids.append(X[cluster_group==types].mean(axis=0))\n",
    "        return np.array(new_centroids)\n",
    "        \n",
    "        \n",
    "        "
   ]
  },
  {
   "cell_type": "code",
   "execution_count": null,
   "id": "c4177b8b",
   "metadata": {},
   "outputs": [],
   "source": []
  },
  {
   "cell_type": "code",
   "execution_count": 51,
   "id": "cffd3f87",
   "metadata": {},
   "outputs": [],
   "source": [
    "m = KMean(n_clusters=4)\n",
    "y_means = m.fit_predict(X)"
   ]
  },
  {
   "cell_type": "code",
   "execution_count": 52,
   "id": "dbf6f2e7",
   "metadata": {},
   "outputs": [
    {
     "data": {
      "image/png": "[encoded data removed]",
      "text/plain": [
       "<Figure size 432x288 with 1 Axes>"
      ]
     },
     "metadata": {
      "needs_background": "light"
     },
     "output_type": "display_data"
    }
   ],
   "source": [
    "plt.scatter(X[y_means == 0,0],X[y_means == 0,1],color='red')\n",
    "plt.scatter(X[y_means == 1,0],X[y_means == 1,1],color='blue')\n",
    "plt.scatter(X[y_means == 2,0],X[y_means == 2,1],color='green')\n",
    "plt.scatter(X[y_means == 3,0],X[y_means == 3,1],color='yellow')\n",
    "plt.show()"
   ]
  },
  {
   "cell_type": "code",
   "execution_count": null,
   "id": "039e7ddd",
   "metadata": {},
   "outputs": [],
   "source": []
  }
 ],
 "metadata": {
  "kernelspec": {
   "display_name": "Python 3 (ipykernel)",
   "language": "python",
   "name": "python3"
  },
  "language_info": {
   "codemirror_mode": {
    "name": "ipython",
    "version": 3
   },
   "file_extension": ".py",
   "mimetype": "text/x-python",
   "name": "python",
   "nbconvert_exporter": "python",
   "pygments_lexer": "ipython3",
   "version": "3.10.0"
  }
 },
 "nbformat": 4,
 "nbformat_minor": 5
}
