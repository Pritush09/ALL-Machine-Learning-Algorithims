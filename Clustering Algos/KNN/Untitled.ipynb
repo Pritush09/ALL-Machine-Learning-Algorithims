{
 "cells": [
  {
   "cell_type": "code",
   "execution_count": 27,
   "id": "f1d4dd9c",
   "metadata": {},
   "outputs": [],
   "source": [
    "import numpy as np\n",
    "from collections import Counter # to get the most nearest label\n",
    "from sklearn import datasets\n",
    "from sklearn.model_selection import train_test_split\n",
    "from sklearn.metrics import classification_report,accuracy_score"
   ]
  },
  {
   "cell_type": "code",
   "execution_count": 12,
   "id": "4450c414",
   "metadata": {},
   "outputs": [
    {
     "data": {
      "text/plain": [
       "(array([[6.4, 3.1, 5.5, 1.8],\n",
       "        [5.4, 3. , 4.5, 1.5],\n",
       "        [5.2, 3.5, 1.5, 0.2],\n",
       "        [6.1, 3. , 4.9, 1.8],\n",
       "        [6.4, 2.8, 5.6, 2.2],\n",
       "        [5.2, 2.7, 3.9, 1.4],\n",
       "        [5.7, 3.8, 1.7, 0.3],\n",
       "        [6. , 2.7, 5.1, 1.6],\n",
       "        [5.9, 3. , 4.2, 1.5],\n",
       "        [5.8, 2.6, 4. , 1.2],\n",
       "        [6.8, 3. , 5.5, 2.1],\n",
       "        [4.7, 3.2, 1.3, 0.2],\n",
       "        [6.9, 3.1, 5.1, 2.3],\n",
       "        [5. , 3.5, 1.6, 0.6],\n",
       "        [5.4, 3.7, 1.5, 0.2],\n",
       "        [5. , 2. , 3.5, 1. ],\n",
       "        [6.5, 3. , 5.5, 1.8],\n",
       "        [6.7, 3.3, 5.7, 2.5],\n",
       "        [6. , 2.2, 5. , 1.5],\n",
       "        [6.7, 2.5, 5.8, 1.8],\n",
       "        [5.6, 2.5, 3.9, 1.1],\n",
       "        [7.7, 3. , 6.1, 2.3],\n",
       "        [6.3, 3.3, 4.7, 1.6],\n",
       "        [5.5, 2.4, 3.8, 1.1],\n",
       "        [6.3, 2.7, 4.9, 1.8],\n",
       "        [6.3, 2.8, 5.1, 1.5],\n",
       "        [4.9, 2.5, 4.5, 1.7],\n",
       "        [6.3, 2.5, 5. , 1.9],\n",
       "        [7. , 3.2, 4.7, 1.4],\n",
       "        [6.5, 3. , 5.2, 2. ],\n",
       "        [6. , 3.4, 4.5, 1.6],\n",
       "        [4.8, 3.1, 1.6, 0.2],\n",
       "        [5.8, 2.7, 5.1, 1.9],\n",
       "        [5.6, 2.7, 4.2, 1.3],\n",
       "        [5.6, 2.9, 3.6, 1.3],\n",
       "        [5.5, 2.5, 4. , 1.3],\n",
       "        [6.1, 3. , 4.6, 1.4],\n",
       "        [7.2, 3.2, 6. , 1.8],\n",
       "        [5.3, 3.7, 1.5, 0.2],\n",
       "        [4.3, 3. , 1.1, 0.1],\n",
       "        [6.4, 2.7, 5.3, 1.9],\n",
       "        [5.7, 3. , 4.2, 1.2],\n",
       "        [5.4, 3.4, 1.7, 0.2],\n",
       "        [5.7, 4.4, 1.5, 0.4],\n",
       "        [6.9, 3.1, 4.9, 1.5],\n",
       "        [4.6, 3.1, 1.5, 0.2],\n",
       "        [5.9, 3. , 5.1, 1.8],\n",
       "        [5.1, 2.5, 3. , 1.1],\n",
       "        [4.6, 3.4, 1.4, 0.3],\n",
       "        [6.2, 2.2, 4.5, 1.5],\n",
       "        [7.2, 3.6, 6.1, 2.5],\n",
       "        [5.7, 2.9, 4.2, 1.3],\n",
       "        [4.8, 3. , 1.4, 0.1],\n",
       "        [7.1, 3. , 5.9, 2.1],\n",
       "        [6.9, 3.2, 5.7, 2.3],\n",
       "        [6.5, 3. , 5.8, 2.2],\n",
       "        [6.4, 2.8, 5.6, 2.1],\n",
       "        [5.1, 3.8, 1.6, 0.2],\n",
       "        [4.8, 3.4, 1.6, 0.2],\n",
       "        [6.5, 3.2, 5.1, 2. ],\n",
       "        [6.7, 3.3, 5.7, 2.1],\n",
       "        [4.5, 2.3, 1.3, 0.3],\n",
       "        [6.2, 3.4, 5.4, 2.3],\n",
       "        [4.9, 3. , 1.4, 0.2],\n",
       "        [5.7, 2.5, 5. , 2. ],\n",
       "        [6.9, 3.1, 5.4, 2.1],\n",
       "        [4.4, 3.2, 1.3, 0.2],\n",
       "        [5. , 3.6, 1.4, 0.2],\n",
       "        [7.2, 3. , 5.8, 1.6],\n",
       "        [5.1, 3.5, 1.4, 0.3],\n",
       "        [4.4, 3. , 1.3, 0.2],\n",
       "        [5.4, 3.9, 1.7, 0.4],\n",
       "        [5.5, 2.3, 4. , 1.3],\n",
       "        [6.8, 3.2, 5.9, 2.3],\n",
       "        [7.6, 3. , 6.6, 2.1],\n",
       "        [5.1, 3.5, 1.4, 0.2],\n",
       "        [4.9, 3.1, 1.5, 0.2],\n",
       "        [5.2, 3.4, 1.4, 0.2],\n",
       "        [5.7, 2.8, 4.5, 1.3],\n",
       "        [6.6, 3. , 4.4, 1.4],\n",
       "        [5. , 3.2, 1.2, 0.2],\n",
       "        [5.1, 3.3, 1.7, 0.5],\n",
       "        [6.4, 2.9, 4.3, 1.3],\n",
       "        [5.4, 3.4, 1.5, 0.4],\n",
       "        [7.7, 2.6, 6.9, 2.3],\n",
       "        [4.9, 2.4, 3.3, 1. ],\n",
       "        [7.9, 3.8, 6.4, 2. ],\n",
       "        [6.7, 3.1, 4.4, 1.4],\n",
       "        [5.2, 4.1, 1.5, 0.1],\n",
       "        [6. , 3. , 4.8, 1.8],\n",
       "        [5.8, 4. , 1.2, 0.2],\n",
       "        [7.7, 2.8, 6.7, 2. ],\n",
       "        [5.1, 3.8, 1.5, 0.3],\n",
       "        [4.7, 3.2, 1.6, 0.2],\n",
       "        [7.4, 2.8, 6.1, 1.9],\n",
       "        [5. , 3.3, 1.4, 0.2],\n",
       "        [6.3, 3.4, 5.6, 2.4],\n",
       "        [5.7, 2.8, 4.1, 1.3],\n",
       "        [5.8, 2.7, 3.9, 1.2],\n",
       "        [5.7, 2.6, 3.5, 1. ],\n",
       "        [6.4, 3.2, 5.3, 2.3],\n",
       "        [6.7, 3. , 5.2, 2.3],\n",
       "        [6.3, 2.5, 4.9, 1.5],\n",
       "        [6.7, 3. , 5. , 1.7],\n",
       "        [5. , 3. , 1.6, 0.2],\n",
       "        [5.5, 2.4, 3.7, 1. ],\n",
       "        [6.7, 3.1, 5.6, 2.4],\n",
       "        [5.8, 2.7, 5.1, 1.9],\n",
       "        [5.1, 3.4, 1.5, 0.2],\n",
       "        [6.6, 2.9, 4.6, 1.3],\n",
       "        [5.6, 3. , 4.1, 1.3],\n",
       "        [5.9, 3.2, 4.8, 1.8],\n",
       "        [6.3, 2.3, 4.4, 1.3],\n",
       "        [5.5, 3.5, 1.3, 0.2],\n",
       "        [5.1, 3.7, 1.5, 0.4],\n",
       "        [4.9, 3.1, 1.5, 0.1],\n",
       "        [6.3, 2.9, 5.6, 1.8],\n",
       "        [5.8, 2.7, 4.1, 1. ],\n",
       "        [7.7, 3.8, 6.7, 2.2],\n",
       "        [4.6, 3.2, 1.4, 0.2]]),\n",
       " array([[5.8, 2.8, 5.1, 2.4],\n",
       "        [6. , 2.2, 4. , 1. ],\n",
       "        [5.5, 4.2, 1.4, 0.2],\n",
       "        [7.3, 2.9, 6.3, 1.8],\n",
       "        [5. , 3.4, 1.5, 0.2],\n",
       "        [6.3, 3.3, 6. , 2.5],\n",
       "        [5. , 3.5, 1.3, 0.3],\n",
       "        [6.7, 3.1, 4.7, 1.5],\n",
       "        [6.8, 2.8, 4.8, 1.4],\n",
       "        [6.1, 2.8, 4. , 1.3],\n",
       "        [6.1, 2.6, 5.6, 1.4],\n",
       "        [6.4, 3.2, 4.5, 1.5],\n",
       "        [6.1, 2.8, 4.7, 1.2],\n",
       "        [6.5, 2.8, 4.6, 1.5],\n",
       "        [6.1, 2.9, 4.7, 1.4],\n",
       "        [4.9, 3.6, 1.4, 0.1],\n",
       "        [6. , 2.9, 4.5, 1.5],\n",
       "        [5.5, 2.6, 4.4, 1.2],\n",
       "        [4.8, 3. , 1.4, 0.3],\n",
       "        [5.4, 3.9, 1.3, 0.4],\n",
       "        [5.6, 2.8, 4.9, 2. ],\n",
       "        [5.6, 3. , 4.5, 1.5],\n",
       "        [4.8, 3.4, 1.9, 0.2],\n",
       "        [4.4, 2.9, 1.4, 0.2],\n",
       "        [6.2, 2.8, 4.8, 1.8],\n",
       "        [4.6, 3.6, 1. , 0.2],\n",
       "        [5.1, 3.8, 1.9, 0.4],\n",
       "        [6.2, 2.9, 4.3, 1.3],\n",
       "        [5. , 2.3, 3.3, 1. ],\n",
       "        [5. , 3.4, 1.6, 0.4]]))"
      ]
     },
     "execution_count": 12,
     "metadata": {},
     "output_type": "execute_result"
    }
   ],
   "source": [
    "iris = datasets.load_iris()\n",
    "X , y = iris.data,iris.target\n",
    "X_train , X_test , y_train , y_test = train_test_split(X,y,test_size=0.2,random_state=0)\n",
    "X_train , X_test"
   ]
  },
  {
   "cell_type": "code",
   "execution_count": 18,
   "id": "eee6d889",
   "metadata": {},
   "outputs": [],
   "source": [
    "def Euclid(x1,x2):\n",
    "    distance = np.sqrt(np.sum((x1-x2)**2))\n",
    "    return distance\n",
    "\n",
    "class KNN:\n",
    "    \n",
    "    def __init__(self,k=3):\n",
    "        self.k = k\n",
    "    \n",
    "    def fit(self,X_train,Y_train):\n",
    "        self.X_train = X_train\n",
    "        self.Y_train = Y_train  \n",
    "    \n",
    "    def predict(self,X_test):\n",
    "        prediction = [self._predict(X) for X in X_test]\n",
    "        return prediction\n",
    "    \n",
    "    def _predict(self,x):\n",
    "        #compute the distances \n",
    "        distance = [Euclid(x,x_train) for x_train in self.X_train]\n",
    "        \n",
    "        # get the nearest K\n",
    "        k_indices = np.argsort(distance)[:self.k]\n",
    "        k_nearest_labels = [self.Y_train[i] for i in k_indices]\n",
    "        \n",
    "        # majority vote\n",
    "        most_common = Counter(k_nearest_labels).most_common()\n",
    "        return most_common[0][0]"
   ]
  },
  {
   "cell_type": "code",
   "execution_count": 19,
   "id": "ccbfecfd",
   "metadata": {},
   "outputs": [],
   "source": [
    "clf = KNN(k=3)"
   ]
  },
  {
   "cell_type": "code",
   "execution_count": 20,
   "id": "443bac16",
   "metadata": {},
   "outputs": [],
   "source": [
    "clf.fit(X_train,y_train)"
   ]
  },
  {
   "cell_type": "code",
   "execution_count": 21,
   "id": "57b635dd",
   "metadata": {},
   "outputs": [],
   "source": [
    "predictions = clf.predict(X_test)"
   ]
  },
  {
   "cell_type": "code",
   "execution_count": 22,
   "id": "4f50677b",
   "metadata": {},
   "outputs": [
    {
     "data": {
      "text/plain": [
       "[2,\n",
       " 1,\n",
       " 0,\n",
       " 2,\n",
       " 0,\n",
       " 2,\n",
       " 0,\n",
       " 1,\n",
       " 1,\n",
       " 1,\n",
       " 2,\n",
       " 1,\n",
       " 1,\n",
       " 1,\n",
       " 2,\n",
       " 0,\n",
       " 1,\n",
       " 1,\n",
       " 0,\n",
       " 0,\n",
       " 2,\n",
       " 1,\n",
       " 0,\n",
       " 0,\n",
       " 2,\n",
       " 0,\n",
       " 0,\n",
       " 1,\n",
       " 1,\n",
       " 0]"
      ]
     },
     "execution_count": 22,
     "metadata": {},
     "output_type": "execute_result"
    }
   ],
   "source": [
    "predictions"
   ]
  },
  {
   "cell_type": "code",
   "execution_count": 23,
   "id": "6806f568",
   "metadata": {},
   "outputs": [
    {
     "data": {
      "text/plain": [
       "array([2, 1, 0, 2, 0, 2, 0, 1, 1, 1, 2, 1, 1, 1, 1, 0, 1, 1, 0, 0, 2, 1,\n",
       "       0, 0, 2, 0, 0, 1, 1, 0])"
      ]
     },
     "execution_count": 23,
     "metadata": {},
     "output_type": "execute_result"
    }
   ],
   "source": [
    "y_test"
   ]
  },
  {
   "cell_type": "code",
   "execution_count": 26,
   "id": "f5f22cf6",
   "metadata": {},
   "outputs": [
    {
     "name": "stdout",
     "output_type": "stream",
     "text": [
      "              precision    recall  f1-score   support\n",
      "\n",
      "           0       1.00      1.00      1.00        11\n",
      "           1       1.00      0.92      0.96        13\n",
      "           2       0.86      1.00      0.92         6\n",
      "\n",
      "    accuracy                           0.97        30\n",
      "   macro avg       0.95      0.97      0.96        30\n",
      "weighted avg       0.97      0.97      0.97        30\n",
      "\n"
     ]
    }
   ],
   "source": [
    "print(classification_report(y_test,predictions))"
   ]
  },
  {
   "cell_type": "code",
   "execution_count": 28,
   "id": "d09c57d8",
   "metadata": {},
   "outputs": [
    {
     "data": {
      "text/plain": [
       "0.9666666666666667"
      ]
     },
     "execution_count": 28,
     "metadata": {},
     "output_type": "execute_result"
    }
   ],
   "source": [
    "accuracy_score(y_test,predictions)"
   ]
  },
  {
   "cell_type": "code",
   "execution_count": null,
   "id": "ad7e2fa4",
   "metadata": {},
   "outputs": [],
   "source": []
  }
 ],
 "metadata": {
  "kernelspec": {
   "display_name": "MLDL",
   "language": "python",
   "name": "mldl"
  },
  "language_info": {
   "codemirror_mode": {
    "name": "ipython",
    "version": 3
   },
   "file_extension": ".py",
   "mimetype": "text/x-python",
   "name": "python",
   "nbconvert_exporter": "python",
   "pygments_lexer": "ipython3",
   "version": "3.10.9"
  }
 },
 "nbformat": 4,
 "nbformat_minor": 5
}
