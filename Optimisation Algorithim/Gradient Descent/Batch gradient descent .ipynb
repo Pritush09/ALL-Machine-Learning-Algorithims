{
 "cells": [
  {
   "cell_type": "markdown",
   "id": "5f46362a",
   "metadata": {},
   "source": [
    "# This is similar to the previous one where we take all the data points in consideration and then perform an update so it basically depends upon given number of epochs "
   ]
  },
  {
   "cell_type": "markdown",
   "id": "a266f5b1",
   "metadata": {},
   "source": [
    "this is used only when the data is smaller in size and the loss function is an convex function otherwise the other forms of gd id used like stocastic or mini batch "
   ]
  },
  {
   "cell_type": "code",
   "execution_count": 5,
   "id": "d659744f",
   "metadata": {},
   "outputs": [],
   "source": [
    "from sklearn.datasets import load_diabetes\n",
    "\n",
    "import numpy as np\n",
    "from sklearn.linear_model import LinearRegression\n",
    "from sklearn.metrics import r2_score\n",
    "from sklearn.model_selection import train_test_split"
   ]
  },
  {
   "cell_type": "code",
   "execution_count": 6,
   "id": "3e6d7089",
   "metadata": {},
   "outputs": [
    {
     "name": "stdout",
     "output_type": "stream",
     "text": [
      "(442, 10)\n",
      "(442,)\n"
     ]
    }
   ],
   "source": [
    "X,y = load_diabetes(return_X_y=True)\n",
    "print(X.shape)\n",
    "print(y.shape)"
   ]
  },
  {
   "cell_type": "code",
   "execution_count": 33,
   "id": "140d52b4",
   "metadata": {},
   "outputs": [
    {
     "data": {
      "text/plain": [
       "((353, 10), (353,))"
      ]
     },
     "execution_count": 33,
     "metadata": {},
     "output_type": "execute_result"
    }
   ],
   "source": [
    "X_train,X_test,y_train,y_test = train_test_split(X,y,test_size=0.2,random_state=2)\n",
    "X_train.shape , y_train.shape"
   ]
  },
  {
   "cell_type": "code",
   "execution_count": 8,
   "id": "3c607b7a",
   "metadata": {},
   "outputs": [
    {
     "name": "stdout",
     "output_type": "stream",
     "text": [
      "[  -9.15865318 -205.45432163  516.69374454  340.61999905 -895.5520019\n",
      "  561.22067904  153.89310954  126.73139688  861.12700152   52.42112238]\n",
      "151.88331005254167\n"
     ]
    }
   ],
   "source": [
    "reg = LinearRegression()\n",
    "reg.fit(X_train,y_train)\n",
    "print(reg.coef_)\n",
    "print(reg.intercept_)"
   ]
  },
  {
   "cell_type": "code",
   "execution_count": 9,
   "id": "452bff4f",
   "metadata": {},
   "outputs": [
    {
     "data": {
      "text/plain": [
       "0.4399338661568968"
      ]
     },
     "execution_count": 9,
     "metadata": {},
     "output_type": "execute_result"
    }
   ],
   "source": [
    "y_pred = reg.predict(X_test)\n",
    "r2_score(y_test,y_pred)"
   ]
  },
  {
   "cell_type": "code",
   "execution_count": 1,
   "id": "740d18b3",
   "metadata": {},
   "outputs": [],
   "source": [
    "# THis is for the n dimensional data(n number of columns)\n",
    "import numpy as np"
   ]
  },
  {
   "cell_type": "code",
   "execution_count": 66,
   "id": "ea8e3154",
   "metadata": {},
   "outputs": [],
   "source": [
    "class BGD:\n",
    "    def __init__(self,learning_rate=0.01,epoch=100):\n",
    "        self.coef_=None\n",
    "        self.intercept_ = None\n",
    "        self.lr = learning_rate\n",
    "        self.epoch = epoch\n",
    "        \n",
    "    def fit(self,X_train,y_train):\n",
    "        self.coef_ = np.ones(X_train.shape[1])\n",
    "        self.intercept_ = 0\n",
    "        #print(self.intercept_, \" , \" ,self.coef_)\n",
    "        \n",
    "        for i in range(self.epoch):\n",
    "            y_hat = np.dot(X_train,self.coef_) + self.intercept_\n",
    "            #print(y_hat.shape)\n",
    "            \n",
    "            # calculating the intercept term for the model\n",
    "            intercept_der = (-2) * np.mean(y_train - y_hat)\n",
    "            self.intercept_ = self.intercept_ - self.lr*intercept_der\n",
    "            \n",
    "            # calculating the coeficients for the model\n",
    "            coef_der = (-2) *  np.dot((y_train - y_hat) , X_train)/X_train.shape[0]\n",
    "            self.coef_ = self.coef_ - self.lr*coef_der\n",
    "            \n",
    "        print(self.intercept_, \" , \" ,self.coef_)\n",
    "            \n",
    "    def predict(self,X_test):\n",
    "        return np.dot(X_test,self.coef_) + self.intercept_"
   ]
  },
  {
   "cell_type": "code",
   "execution_count": 67,
   "id": "79523f0d",
   "metadata": {},
   "outputs": [],
   "source": [
    "bgd = BGD(learning_rate=0.4,epoch=10000)"
   ]
  },
  {
   "cell_type": "code",
   "execution_count": 68,
   "id": "7e1cc5f0",
   "metadata": {},
   "outputs": [
    {
     "name": "stdout",
     "output_type": "stream",
     "text": [
      "151.90141119431544  ,  [  -7.42940238 -200.2580854   533.056533    338.26352639 -151.48092554\n",
      "  -41.9944808  -163.69805928   56.86597538  576.37992688   53.58882383]\n"
     ]
    }
   ],
   "source": [
    "bgd.fit(X_train,y_train)"
   ]
  },
  {
   "cell_type": "code",
   "execution_count": 69,
   "id": "44d04f73",
   "metadata": {},
   "outputs": [
    {
     "data": {
      "text/plain": [
       "0.4430953255644269"
      ]
     },
     "execution_count": 69,
     "metadata": {},
     "output_type": "execute_result"
    }
   ],
   "source": [
    "y_pred = bgd.predict(X_test)\n",
    "r2_score(y_test,y_pred)"
   ]
  },
  {
   "cell_type": "code",
   "execution_count": null,
   "id": "210bdcfa",
   "metadata": {},
   "outputs": [],
   "source": []
  },
  {
   "cell_type": "code",
   "execution_count": null,
   "id": "6c840b26",
   "metadata": {},
   "outputs": [],
   "source": []
  }
 ],
 "metadata": {
  "kernelspec": {
   "display_name": "Python 3 (ipykernel)",
   "language": "python",
   "name": "python3"
  },
  "language_info": {
   "codemirror_mode": {
    "name": "ipython",
    "version": 3
   },
   "file_extension": ".py",
   "mimetype": "text/x-python",
   "name": "python",
   "nbconvert_exporter": "python",
   "pygments_lexer": "ipython3",
   "version": "3.10.9"
  }
 },
 "nbformat": 4,
 "nbformat_minor": 5
}
