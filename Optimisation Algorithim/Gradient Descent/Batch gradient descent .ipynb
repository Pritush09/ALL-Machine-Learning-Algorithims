{
 "cells": [
  {
   "cell_type": "markdown",
   "id": "5f46362a",
   "metadata": {},
   "source": [
    "# This is similar to the previous one where we take all the data points in consideration and then perform an update so it basically depends upon given number of epochs "
   ]
  },
  {
   "cell_type": "markdown",
   "id": "a266f5b1",
   "metadata": {},
   "source": [
    "this is used only when the data is smaller in size and the loss function is an convex function otherwise the other forms of gd id used like stocastic or mini batch "
   ]
  },
  {
   "cell_type": "code",
   "execution_count": 1,
   "id": "e6cf6618",
   "metadata": {},
   "outputs": [],
   "source": [
    "class BGDRegressor:\n",
    "    def __init__(self,lr_rate,epochs):\n",
    "        self.m = 28.12597332\n",
    "        self.b = 0\n",
    "        self.lr_rate = lr_rate\n",
    "        self.epochs = epochs\n",
    "    def fit(self,X,y):\n",
    "    # calculate b \n",
    "        for i in range(self.epochs):\n",
    "            loss_slope_b = -2 * np.sum(y - self.m*X.ravel() - self.b)\n",
    "            loss_slope_m = -2 * np.sum((y - self.m*X.ravel() - self.b)*X.ravel())\n",
    "\n",
    "            self.b = self.b - (self.lr_rate * loss_slope_b)\n",
    "            self.m = self.m - (self.lr_rate * loss_slope_m)\n",
    "        print(self.m,self.b)\n",
    "        \n",
    "    def predict(self,X):\n",
    "        return self.m * X + self.b"
   ]
  },
  {
   "cell_type": "code",
   "execution_count": 2,
   "id": "740d18b3",
   "metadata": {},
   "outputs": [],
   "source": [
    "# THis is for the n dimensional data(n number of columns)"
   ]
  },
  {
   "cell_type": "code",
   "execution_count": 3,
   "id": "ea8e3154",
   "metadata": {},
   "outputs": [],
   "source": [
    "class GDRegressor:\n",
    "    \n",
    "    def __init__(self,learning_rate=0.01,epochs=100):\n",
    "        \n",
    "        self.coef_ = None\n",
    "        self.intercept_ = None\n",
    "        self.lr = learning_rate\n",
    "        self.epochs = epochs\n",
    "        \n",
    "    def fit(self,X_train,y_train):\n",
    "        # init your coefs\n",
    "        self.intercept_ = 0\n",
    "        self.coef_ = np.ones(X_train.shape[1])\n",
    "        \n",
    "        for i in range(self.epochs):\n",
    "            # update all the coef and the intercept\n",
    "            y_hat = np.dot(X_train,self.coef_) + self.intercept_\n",
    "            #print(\"Shape of y_hat\",y_hat.shape)\n",
    "            intercept_der = -2 * np.mean(y_train - y_hat)\n",
    "            self.intercept_ = self.intercept_ - (self.lr * intercept_der)\n",
    "            \n",
    "            coef_der = -2 * np.dot((y_train - y_hat),X_train)/X_train.shape[0]\n",
    "            self.coef_ = self.coef_ - (self.lr * coef_der)\n",
    "        \n",
    "        print(self.intercept_,self.coef_)\n",
    "    \n",
    "    def predict(self,X_test):\n",
    "        return np.dot(X_test,self.coef_) + self.intercept_"
   ]
  },
  {
   "cell_type": "code",
   "execution_count": null,
   "id": "79523f0d",
   "metadata": {},
   "outputs": [],
   "source": []
  }
 ],
 "metadata": {
  "kernelspec": {
   "display_name": "Python 3 (ipykernel)",
   "language": "python",
   "name": "python3"
  },
  "language_info": {
   "codemirror_mode": {
    "name": "ipython",
    "version": 3
   },
   "file_extension": ".py",
   "mimetype": "text/x-python",
   "name": "python",
   "nbconvert_exporter": "python",
   "pygments_lexer": "ipython3",
   "version": "3.10.0"
  }
 },
 "nbformat": 4,
 "nbformat_minor": 5
}
