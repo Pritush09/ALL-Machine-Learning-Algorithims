{
 "cells": [
  {
   "cell_type": "markdown",
   "id": "5f46362a",
   "metadata": {},
   "source": [
    "# This is similar to the previous one where we take all the data points in consideration and then perform an update so it basically depends upon given number of epochs "
   ]
  },
  {
   "cell_type": "markdown",
   "id": "a266f5b1",
   "metadata": {},
   "source": [
    "this is used only when the data is smaller in size and the loss function is an convex function otherwise the other forms of gd id used like stocastic or mini batch "
   ]
  },
  {
   "cell_type": "code",
   "execution_count": 1,
   "id": "e6cf6618",
   "metadata": {},
   "outputs": [],
   "source": [
    "class BGDRegressor:\n",
    "    def __init__(self,lr_rate,epochs):\n",
    "        self.m = 28.12597332\n",
    "        self.b = 0\n",
    "        self.lr_rate = lr_rate\n",
    "        self.epochs = epochs\n",
    "    def fit(self,X,y):\n",
    "    # calculate b \n",
    "        for i in range(self.epochs):\n",
    "            loss_slope_b = -2 * np.sum(y - self.m*X.ravel() - self.b)\n",
    "            loss_slope_m = -2 * np.sum((y - self.m*X.ravel() - self.b)*X.ravel())\n",
    "\n",
    "            self.b = self.b - (self.lr_rate * loss_slope_b)\n",
    "            self.m = self.m - (self.lr_rate * loss_slope_m)\n",
    "        print(self.m,self.b)\n",
    "        \n",
    "    def predict(self,X):\n",
    "        return self.m * X + self.b"
   ]
  },
  {
   "cell_type": "code",
   "execution_count": null,
   "id": "740d18b3",
   "metadata": {},
   "outputs": [],
   "source": []
  }
 ],
 "metadata": {
  "kernelspec": {
   "display_name": "Python 3 (ipykernel)",
   "language": "python",
   "name": "python3"
  },
  "language_info": {
   "codemirror_mode": {
    "name": "ipython",
    "version": 3
   },
   "file_extension": ".py",
   "mimetype": "text/x-python",
   "name": "python",
   "nbconvert_exporter": "python",
   "pygments_lexer": "ipython3",
   "version": "3.10.0"
  }
 },
 "nbformat": 4,
 "nbformat_minor": 5
}
