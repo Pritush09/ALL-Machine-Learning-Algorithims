{
 "cells": [
  {
   "cell_type": "code",
   "execution_count": 1,
   "id": "6847cc0f",
   "metadata": {},
   "outputs": [],
   "source": [
    "import numpy as np\n",
    "from sklearn.cluster import DBSCAN\n",
    "import matplotlib.pyplot as plt"
   ]
  },
  {
   "cell_type": "code",
   "execution_count": 2,
   "id": "21085d1e",
   "metadata": {},
   "outputs": [],
   "source": [
    "X = np.array([[1,2],[3,4],[4,3],[8,7],[7,8],[25,80]])"
   ]
  },
  {
   "cell_type": "code",
   "execution_count": 3,
   "id": "827d996f",
   "metadata": {},
   "outputs": [
    {
     "data": {
      "text/plain": [
       "array([[ 1,  2],\n",
       "       [ 3,  4],\n",
       "       [ 4,  3],\n",
       "       [ 8,  7],\n",
       "       [ 7,  8],\n",
       "       [25, 80]])"
      ]
     },
     "execution_count": 3,
     "metadata": {},
     "output_type": "execute_result"
    }
   ],
   "source": [
    "X"
   ]
  },
  {
   "cell_type": "code",
   "execution_count": 4,
   "id": "18abc722",
   "metadata": {},
   "outputs": [
    {
     "data": {
      "text/plain": [
       "<matplotlib.collections.PathCollection at 0x21354f76c20>"
      ]
     },
     "execution_count": 4,
     "metadata": {},
     "output_type": "execute_result"
    },
    {
     "data": {
      "image/png": "[encoded data removed]",
      "text/plain": [
       "<Figure size 432x288 with 1 Axes>"
      ]
     },
     "metadata": {
      "needs_background": "light"
     },
     "output_type": "display_data"
    }
   ],
   "source": [
    "plt.scatter(X[:,0],X[:,1])"
   ]
  },
  {
   "cell_type": "code",
   "execution_count": 5,
   "id": "b96464d2",
   "metadata": {},
   "outputs": [],
   "source": [
    "db = DBSCAN(eps=3,min_samples=2).fit(X)"
   ]
  },
  {
   "cell_type": "code",
   "execution_count": 6,
   "id": "6c9579b5",
   "metadata": {},
   "outputs": [
    {
     "data": {
      "text/plain": [
       "array([ 0,  0,  0,  1,  1, -1], dtype=int64)"
      ]
     },
     "execution_count": 6,
     "metadata": {},
     "output_type": "execute_result"
    }
   ],
   "source": [
    "db.labels_"
   ]
  },
  {
   "cell_type": "code",
   "execution_count": 7,
   "id": "8db8f841",
   "metadata": {},
   "outputs": [],
   "source": [
    "c = db = DBSCAN(eps=9,min_samples=6).fit(X)"
   ]
  },
  {
   "cell_type": "code",
   "execution_count": 8,
   "id": "03421484",
   "metadata": {},
   "outputs": [
    {
     "data": {
      "text/plain": [
       "array([-1, -1, -1, -1, -1, -1], dtype=int64)"
      ]
     },
     "execution_count": 8,
     "metadata": {},
     "output_type": "execute_result"
    }
   ],
   "source": [
    "c.labels_# this is because all the min samples need to be 6 but it is not the case due to the outlier \n",
    "#in the data  thats why all the points are classified as noice"
   ]
  },
  {
   "cell_type": "code",
   "execution_count": 9,
   "id": "ef80702d",
   "metadata": {},
   "outputs": [],
   "source": [
    "# in k_mean model there is a predict function but in db there is no predict method"
   ]
  },
  {
   "cell_type": "markdown",
   "id": "37a7363a",
   "metadata": {},
   "source": [
    "# An importance difference between k_means and DBScan"
   ]
  },
  {
   "cell_type": "code",
   "execution_count": 13,
   "id": "877fa1d7",
   "metadata": {},
   "outputs": [],
   "source": [
    "from sklearn.cluster import KMeans\n",
    "km = KMeans(n_clusters=2,random_state=0).fit(X)"
   ]
  },
  {
   "cell_type": "code",
   "execution_count": 14,
   "id": "1f8eb00e",
   "metadata": {},
   "outputs": [
    {
     "data": {
      "text/plain": [
       "array([0, 0, 0, 0, 0, 1])"
      ]
     },
     "execution_count": 14,
     "metadata": {},
     "output_type": "execute_result"
    }
   ],
   "source": [
    "km.labels_"
   ]
  },
  {
   "cell_type": "code",
   "execution_count": 15,
   "id": "df48c734",
   "metadata": {},
   "outputs": [
    {
     "data": {
      "text/plain": [
       "array([0, 0])"
      ]
     },
     "execution_count": 15,
     "metadata": {},
     "output_type": "execute_result"
    }
   ],
   "source": [
    "km.predict([[0,0],[12,3]])"
   ]
  },
  {
   "cell_type": "code",
   "execution_count": 16,
   "id": "910ef079",
   "metadata": {},
   "outputs": [
    {
     "data": {
      "text/plain": [
       "array([[ 4.6,  4.8],\n",
       "       [25. , 80. ]])"
      ]
     },
     "execution_count": 16,
     "metadata": {},
     "output_type": "execute_result"
    }
   ],
   "source": [
    "km.cluster_centers_"
   ]
  },
  {
   "cell_type": "code",
   "execution_count": 17,
   "id": "b0a83d13",
   "metadata": {},
   "outputs": [
    {
     "data": {
      "text/plain": [
       "array([1, 1])"
      ]
     },
     "execution_count": 17,
     "metadata": {},
     "output_type": "execute_result"
    }
   ],
   "source": [
    "# the above are the centers and if new data comes then the distances between these centers are calculated\n",
    "km.predict([[25,79],[23,78]])"
   ]
  },
  {
   "cell_type": "markdown",
   "id": "58a51ebf",
   "metadata": {},
   "source": [
    "# Deciding the optimal value for the epsilon"
   ]
  },
  {
   "cell_type": "code",
   "execution_count": 23,
   "id": "a4c8c211",
   "metadata": {},
   "outputs": [],
   "source": [
    "from sklearn.datasets import make_blobs\n",
    "from sklearn.neighbors import NearestNeighbors\n",
    "import seaborn as sns\n",
    "sns.set()"
   ]
  },
  {
   "cell_type": "code",
   "execution_count": 24,
   "id": "ceb4cf36",
   "metadata": {},
   "outputs": [],
   "source": [
    "X,y = make_blobs(n_samples=200,centers=4,cluster_std=0.60,random_state=0)"
   ]
  },
  {
   "cell_type": "code",
   "execution_count": 25,
   "id": "4854b7a0",
   "metadata": {},
   "outputs": [
    {
     "data": {
      "text/plain": [
       "<matplotlib.collections.PathCollection at 0x21359089e40>"
      ]
     },
     "execution_count": 25,
     "metadata": {},
     "output_type": "execute_result"
    },
    {
     "data": {
      "image/png": "[encoded data removed]",
      "text/plain": [
       "<Figure size 432x288 with 1 Axes>"
      ]
     },
     "metadata": {},
     "output_type": "display_data"
    }
   ],
   "source": [
    "plt.scatter(X[:,0],X[:,1])"
   ]
  },
  {
   "cell_type": "code",
   "execution_count": null,
   "id": "f05367eb",
   "metadata": {},
   "outputs": [],
   "source": []
  }
 ],
 "metadata": {
  "kernelspec": {
   "display_name": "Python 3 (ipykernel)",
   "language": "python",
   "name": "python3"
  },
  "language_info": {
   "codemirror_mode": {
    "name": "ipython",
    "version": 3
   },
   "file_extension": ".py",
   "mimetype": "text/x-python",
   "name": "python",
   "nbconvert_exporter": "python",
   "pygments_lexer": "ipython3",
   "version": "3.10.0"
  }
 },
 "nbformat": 4,
 "nbformat_minor": 5
}
