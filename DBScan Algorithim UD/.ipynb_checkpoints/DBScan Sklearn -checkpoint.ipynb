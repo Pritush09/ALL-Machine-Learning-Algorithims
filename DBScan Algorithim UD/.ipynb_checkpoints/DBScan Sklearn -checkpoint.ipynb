{
 "cells": [
  {
   "cell_type": "code",
   "execution_count": 1,
   "id": "8802fa6b",
   "metadata": {},
   "outputs": [],
   "source": [
    "import numpy as np\n",
    "from sklearn.cluster import DBSCAN\n",
    "import matplotlib.pyplot as plt"
   ]
  },
  {
   "cell_type": "code",
   "execution_count": 2,
   "id": "35629f44",
   "metadata": {},
   "outputs": [],
   "source": [
    "X = np.array([[1,2],[3,4],[4,3],[8,7],[7,8],[25,80]])"
   ]
  },
  {
   "cell_type": "code",
   "execution_count": 3,
   "id": "2ce65296",
   "metadata": {},
   "outputs": [
    {
     "data": {
      "text/plain": [
       "array([[ 1,  2],\n",
       "       [ 3,  4],\n",
       "       [ 4,  3],\n",
       "       [ 8,  7],\n",
       "       [ 7,  8],\n",
       "       [25, 80]])"
      ]
     },
     "execution_count": 3,
     "metadata": {},
     "output_type": "execute_result"
    }
   ],
   "source": [
    "X"
   ]
  },
  {
   "cell_type": "code",
   "execution_count": 4,
   "id": "bab2b576",
   "metadata": {},
   "outputs": [
    {
     "data": {
      "text/plain": [
       "<matplotlib.collections.PathCollection at 0x21354f76c20>"
      ]
     },
     "execution_count": 4,
     "metadata": {},
     "output_type": "execute_result"
    },
    {
     "data": {
      "image/png": "[encoded data removed]",
      "text/plain": [
       "<Figure size 432x288 with 1 Axes>"
      ]
     },
     "metadata": {
      "needs_background": "light"
     },
     "output_type": "display_data"
    }
   ],
   "source": [
    "plt.scatter(X[:,0],X[:,1])"
   ]
  },
  {
   "cell_type": "code",
   "execution_count": 5,
   "id": "d1b5fd47",
   "metadata": {},
   "outputs": [],
   "source": [
    "db = DBSCAN(eps=3,min_samples=2).fit(X)"
   ]
  },
  {
   "cell_type": "code",
   "execution_count": 6,
   "id": "8128f8c6",
   "metadata": {},
   "outputs": [
    {
     "data": {
      "text/plain": [
       "array([ 0,  0,  0,  1,  1, -1], dtype=int64)"
      ]
     },
     "execution_count": 6,
     "metadata": {},
     "output_type": "execute_result"
    }
   ],
   "source": [
    "db.labels_"
   ]
  },
  {
   "cell_type": "code",
   "execution_count": 7,
   "id": "330c73f2",
   "metadata": {},
   "outputs": [],
   "source": [
    "c = db = DBSCAN(eps=9,min_samples=6).fit(X)"
   ]
  },
  {
   "cell_type": "code",
   "execution_count": 8,
   "id": "3d8f135c",
   "metadata": {},
   "outputs": [
    {
     "data": {
      "text/plain": [
       "array([-1, -1, -1, -1, -1, -1], dtype=int64)"
      ]
     },
     "execution_count": 8,
     "metadata": {},
     "output_type": "execute_result"
    }
   ],
   "source": [
    "c.labels_# this is because all the min samples need to be 6 but it is not the case due to the outlier \n",
    "#in the data  thats why all the points are classified as noice"
   ]
  },
  {
   "cell_type": "code",
   "execution_count": 9,
   "id": "0c29fc04",
   "metadata": {},
   "outputs": [],
   "source": [
    "# in k_mean model there is a predict function but in db there is no predict method"
   ]
  },
  {
   "cell_type": "markdown",
   "id": "fb7ac49b",
   "metadata": {},
   "source": [
    "# An importance difference between k_means and DBScan"
   ]
  },
  {
   "cell_type": "code",
   "execution_count": 13,
   "id": "b015f8f1",
   "metadata": {},
   "outputs": [],
   "source": [
    "from sklearn.cluster import KMeans\n",
    "km = KMeans(n_clusters=2,random_state=0).fit(X)"
   ]
  },
  {
   "cell_type": "code",
   "execution_count": 14,
   "id": "9268e24a",
   "metadata": {},
   "outputs": [
    {
     "data": {
      "text/plain": [
       "array([0, 0, 0, 0, 0, 1])"
      ]
     },
     "execution_count": 14,
     "metadata": {},
     "output_type": "execute_result"
    }
   ],
   "source": [
    "km.labels_"
   ]
  },
  {
   "cell_type": "code",
   "execution_count": 15,
   "id": "2acbab05",
   "metadata": {},
   "outputs": [
    {
     "data": {
      "text/plain": [
       "array([0, 0])"
      ]
     },
     "execution_count": 15,
     "metadata": {},
     "output_type": "execute_result"
    }
   ],
   "source": [
    "km.predict([[0,0],[12,3]])"
   ]
  },
  {
   "cell_type": "code",
   "execution_count": 16,
   "id": "a4ab2033",
   "metadata": {},
   "outputs": [
    {
     "data": {
      "text/plain": [
       "array([[ 4.6,  4.8],\n",
       "       [25. , 80. ]])"
      ]
     },
     "execution_count": 16,
     "metadata": {},
     "output_type": "execute_result"
    }
   ],
   "source": [
    "km.cluster_centers_"
   ]
  },
  {
   "cell_type": "code",
   "execution_count": 17,
   "id": "bb6a53b4",
   "metadata": {},
   "outputs": [
    {
     "data": {
      "text/plain": [
       "array([1, 1])"
      ]
     },
     "execution_count": 17,
     "metadata": {},
     "output_type": "execute_result"
    }
   ],
   "source": [
    "# the above are the centers and if new data comes then the distances between these centers are calculated\n",
    "km.predict([[25,79],[23,78]])"
   ]
  },
  {
   "cell_type": "markdown",
   "id": "c28e3631",
   "metadata": {},
   "source": [
    "# Deciding the optimal value for the epsilon"
   ]
  },
  {
   "cell_type": "code",
   "execution_count": 23,
   "id": "eebf0130",
   "metadata": {},
   "outputs": [],
   "source": [
    "from sklearn.datasets import make_blobs\n",
    "from sklearn.neighbors import NearestNeighbors\n",
    "import seaborn as sns\n",
    "sns.set()"
   ]
  },
  {
   "cell_type": "code",
   "execution_count": 24,
   "id": "86e990b0",
   "metadata": {},
   "outputs": [],
   "source": [
    "X,y = make_blobs(n_samples=200,centers=4,cluster_std=0.60,random_state=0)"
   ]
  },
  {
   "cell_type": "code",
   "execution_count": 43,
   "id": "2065b115",
   "metadata": {},
   "outputs": [
    {
     "data": {
      "text/plain": [
       "array([[ 2.23421043,  1.6934952 ],\n",
       "       [-1.05510724,  2.6380308 ],\n",
       "       [ 1.08272576,  4.06271877],\n",
       "       [-2.60159431,  7.22195591],\n",
       "       [ 1.60841463,  0.40180054]])"
      ]
     },
     "execution_count": 43,
     "metadata": {},
     "output_type": "execute_result"
    }
   ],
   "source": [
    "X[:5]"
   ]
  },
  {
   "cell_type": "code",
   "execution_count": 25,
   "id": "73260d67",
   "metadata": {},
   "outputs": [
    {
     "data": {
      "text/plain": [
       "<matplotlib.collections.PathCollection at 0x21359089e40>"
      ]
     },
     "execution_count": 25,
     "metadata": {},
     "output_type": "execute_result"
    },
    {
     "data": {
      "image/png": "[encoded data removed]",
      "text/plain": [
       "<Figure size 432x288 with 1 Axes>"
      ]
     },
     "metadata": {},
     "output_type": "display_data"
    }
   ],
   "source": [
    "plt.scatter(X[:,0],X[:,1])"
   ]
  },
  {
   "cell_type": "code",
   "execution_count": 26,
   "id": "4734da2e",
   "metadata": {},
   "outputs": [
    {
     "data": {
      "text/plain": [
       "NearestNeighbors(n_neighbors=1)"
      ]
     },
     "execution_count": 26,
     "metadata": {},
     "output_type": "execute_result"
    }
   ],
   "source": [
    "samples = [[0,0,0],[0,0.5,0],[1,1,5]]\n",
    "nn = NearestNeighbors(n_neighbors=1)\n",
    "nn.fit(samples)"
   ]
  },
  {
   "cell_type": "code",
   "execution_count": 46,
   "id": "34823db2",
   "metadata": {},
   "outputs": [
    {
     "data": {
      "text/plain": [
       "[[0, 0, 0], [0, 0.5, 0], [1, 1, 5]]"
      ]
     },
     "execution_count": 46,
     "metadata": {},
     "output_type": "execute_result"
    }
   ],
   "source": [
    "samples"
   ]
  },
  {
   "cell_type": "code",
   "execution_count": 29,
   "id": "3c544ee1",
   "metadata": {},
   "outputs": [
    {
     "data": {
      "text/plain": [
       "(array([[0.14142136]]), array([[1]], dtype=int64))"
      ]
     },
     "execution_count": 29,
     "metadata": {},
     "output_type": "execute_result"
    }
   ],
   "source": [
    "nn.kneighbors([[0,0.4,0.1]])"
   ]
  },
  {
   "cell_type": "code",
   "execution_count": 30,
   "id": "29fcfe59",
   "metadata": {
    "scrolled": true
   },
   "outputs": [
    {
     "data": {
      "text/plain": [
       "(array([[0.14142136]]), array([[0]], dtype=int64))"
      ]
     },
     "execution_count": 30,
     "metadata": {},
     "output_type": "execute_result"
    }
   ],
   "source": [
    "nn.kneighbors([[0.1,0,0.1]])"
   ]
  },
  {
   "cell_type": "code",
   "execution_count": 31,
   "id": "b89e1424",
   "metadata": {},
   "outputs": [],
   "source": [
    "nmn = NearestNeighbors(n_neighbors=2)\n",
    "nmn.fit(X)\n",
    "distance , indices = nmn.kneighbors(X)"
   ]
  },
  {
   "cell_type": "code",
   "execution_count": 49,
   "id": "d45aa667",
   "metadata": {},
   "outputs": [
    {
     "data": {
      "text/plain": [
       "array([[  0,  62],\n",
       "       [  1,  88],\n",
       "       [  2, 197],\n",
       "       [  3,  60]], dtype=int64)"
      ]
     },
     "execution_count": 49,
     "metadata": {},
     "output_type": "execute_result"
    }
   ],
   "source": [
    "indices[:4]  # iska matlab ki distances 0 aur 62 ke beech nikala gaya he kyuki vo dono sabse close h"
   ]
  },
  {
   "cell_type": "code",
   "execution_count": 47,
   "id": "15d66ffd",
   "metadata": {},
   "outputs": [
    {
     "data": {
      "text/plain": [
       "array([[0.        , 0.00975014],\n",
       "       [0.        , 0.00975014],\n",
       "       [0.        , 0.01234906],\n",
       "       [0.        , 0.01234906]])"
      ]
     },
     "execution_count": 47,
     "metadata": {},
     "output_type": "execute_result"
    }
   ],
   "source": [
    "distance[:4]"
   ]
  },
  {
   "cell_type": "code",
   "execution_count": 39,
   "id": "993b83cd",
   "metadata": {},
   "outputs": [],
   "source": [
    "distance = np.sort(distance,axis=0)"
   ]
  },
  {
   "cell_type": "code",
   "execution_count": 48,
   "id": "521fa75c",
   "metadata": {},
   "outputs": [
    {
     "data": {
      "text/plain": [
       "array([[0.        , 0.00975014],\n",
       "       [0.        , 0.00975014],\n",
       "       [0.        , 0.01234906],\n",
       "       [0.        , 0.01234906]])"
      ]
     },
     "execution_count": 48,
     "metadata": {},
     "output_type": "execute_result"
    }
   ],
   "source": [
    "distance[:4]"
   ]
  },
  {
   "cell_type": "code",
   "execution_count": 41,
   "id": "df0fc950",
   "metadata": {
    "scrolled": true
   },
   "outputs": [
    {
     "data": {
      "text/plain": [
       "[<matplotlib.lines.Line2D at 0x2135a41ae30>]"
      ]
     },
     "execution_count": 41,
     "metadata": {},
     "output_type": "execute_result"
    },
    {
     "data": {
      "image/png": "[encoded data removed]",
      "text/plain": [
       "<Figure size 432x288 with 1 Axes>"
      ]
     },
     "metadata": {},
     "output_type": "display_data"
    }
   ],
   "source": [
    "distances = distance[:,1]\n",
    "plt.plot(distances)"
   ]
  },
  {
   "cell_type": "code",
   "execution_count": 155,
   "id": "7b0cd9c4",
   "metadata": {},
   "outputs": [
    {
     "data": {
      "text/plain": [
       "DBSCAN(eps=0.6, min_samples=6)"
      ]
     },
     "execution_count": 155,
     "metadata": {},
     "output_type": "execute_result"
    }
   ],
   "source": [
    "dbscan = DBSCAN(eps=0.6,min_samples=6)  #  0.3   ,  0.4   ,  0.5  are the good points\n",
    "dbscan.fit(X)"
   ]
  },
  {
   "cell_type": "code",
   "execution_count": 156,
   "id": "f2b66092",
   "metadata": {},
   "outputs": [],
   "source": [
    "lb = dbscan.fit_predict(X)"
   ]
  },
  {
   "cell_type": "code",
   "execution_count": 157,
   "id": "118a6f98",
   "metadata": {},
   "outputs": [],
   "source": [
    "clusters = dbscan.labels_"
   ]
  },
  {
   "cell_type": "code",
   "execution_count": 158,
   "id": "30907b3e",
   "metadata": {},
   "outputs": [
    {
     "data": {
      "text/plain": [
       "5"
      ]
     },
     "execution_count": 158,
     "metadata": {},
     "output_type": "execute_result"
    }
   ],
   "source": [
    "len(set(clusters))"
   ]
  },
  {
   "cell_type": "code",
   "execution_count": 159,
   "id": "27bda884",
   "metadata": {},
   "outputs": [
    {
     "data": {
      "text/plain": [
       "0.6224369664741457"
      ]
     },
     "execution_count": 159,
     "metadata": {},
     "output_type": "execute_result"
    }
   ],
   "source": [
    "from sklearn.metrics import silhouette_score\n",
    "silhouette_score(X,clusters)"
   ]
  },
  {
   "cell_type": "code",
   "execution_count": 160,
   "id": "4e2f5ec5",
   "metadata": {},
   "outputs": [],
   "source": [
    "wcss = []\n",
    "for i in range(1,11):\n",
    "    km = KMeans(n_clusters=i)\n",
    "    km.fit_predict(X)\n",
    "    wcss.append(km.inertia_) # inertia me sabka sabka wcss ota he"
   ]
  },
  {
   "cell_type": "code",
   "execution_count": 161,
   "id": "6620f3d7",
   "metadata": {},
   "outputs": [
    {
     "data": {
      "text/plain": [
       "[<matplotlib.lines.Line2D at 0x2135a7a7070>]"
      ]
     },
     "execution_count": 161,
     "metadata": {},
     "output_type": "execute_result"
    },
    {
     "data": {
      "image/png": "[encoded data removed]",
      "text/plain": [
       "<Figure size 432x288 with 1 Axes>"
      ]
     },
     "metadata": {},
     "output_type": "display_data"
    }
   ],
   "source": [
    "plt.plot(range(1,11),wcss)"
   ]
  },
  {
   "cell_type": "code",
   "execution_count": 163,
   "id": "7a2c32ea",
   "metadata": {},
   "outputs": [],
   "source": [
    "km = KMeans(n_clusters=4)\n",
    "y_mean = km.fit_predict(X)"
   ]
  },
  {
   "cell_type": "code",
   "execution_count": 164,
   "id": "28b080a6",
   "metadata": {},
   "outputs": [
    {
     "data": {
      "text/plain": [
       "<matplotlib.collections.PathCollection at 0x2135a4f59c0>"
      ]
     },
     "execution_count": 164,
     "metadata": {},
     "output_type": "execute_result"
    },
    {
     "data": {
      "image/png": "[encoded data removed]",
      "text/plain": [
       "<Figure size 432x288 with 1 Axes>"
      ]
     },
     "metadata": {},
     "output_type": "display_data"
    }
   ],
   "source": [
    "plt.scatter(X[y_mean==0,0],X[y_mean==0,1],color = 'blue')\n",
    "plt.scatter(X[y_mean==1,0],X[y_mean==1,1],color = 'black')\n",
    "plt.scatter(X[y_mean==2,0],X[y_mean==2,1],color = 'red')\n",
    "plt.scatter(X[y_mean==3,0],X[y_mean==3,1],color = 'green')"
   ]
  },
  {
   "cell_type": "code",
   "execution_count": 166,
   "id": "619bf005",
   "metadata": {},
   "outputs": [
    {
     "data": {
      "text/plain": [
       "0.6796557555696571"
      ]
     },
     "execution_count": 166,
     "metadata": {},
     "output_type": "execute_result"
    }
   ],
   "source": [
    "silhouette_score(X,km.labels_)"
   ]
  },
  {
   "cell_type": "code",
   "execution_count": null,
   "id": "127036da",
   "metadata": {},
   "outputs": [],
   "source": []
  }
 ],
 "metadata": {
  "kernelspec": {
   "display_name": "Python 3 (ipykernel)",
   "language": "python",
   "name": "python3"
  },
  "language_info": {
   "codemirror_mode": {
    "name": "ipython",
    "version": 3
   },
   "file_extension": ".py",
   "mimetype": "text/x-python",
   "name": "python",
   "nbconvert_exporter": "python",
   "pygments_lexer": "ipython3",
   "version": "3.10.0"
  }
 },
 "nbformat": 4,
 "nbformat_minor": 5
}
