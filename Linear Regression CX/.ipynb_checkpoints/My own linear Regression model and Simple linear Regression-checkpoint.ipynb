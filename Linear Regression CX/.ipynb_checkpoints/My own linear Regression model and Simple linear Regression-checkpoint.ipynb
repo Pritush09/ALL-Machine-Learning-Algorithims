{
 "cells": [
  {
   "cell_type": "code",
   "execution_count": 245,
   "id": "80739add",
   "metadata": {},
   "outputs": [],
   "source": [
    "import numpy as np\n",
    "from sklearn.model_selection import train_test_split\n",
    "import pandas as pd\n",
    "from sklearn.linear_model import LinearRegression\n",
    "from sklearn import metrics"
   ]
  },
  {
   "cell_type": "code",
   "execution_count": 50,
   "id": "967fe1d4",
   "metadata": {},
   "outputs": [],
   "source": [
    "data = pd.read_csv(r\"C:\\Users\\mynam\\all the files for data science\\Linear Regression from CampusX\\placement.csv\")"
   ]
  },
  {
   "cell_type": "code",
   "execution_count": 51,
   "id": "17b44bd6",
   "metadata": {},
   "outputs": [
    {
     "data": {
      "text/html": [
       "<div>\n",
       "<style scoped>\n",
       "    .dataframe tbody tr th:only-of-type {\n",
       "        vertical-align: middle;\n",
       "    }\n",
       "\n",
       "    .dataframe tbody tr th {\n",
       "        vertical-align: top;\n",
       "    }\n",
       "\n",
       "    .dataframe thead th {\n",
       "        text-align: right;\n",
       "    }\n",
       "</style>\n",
       "<table border=\"1\" class=\"dataframe\">\n",
       "  <thead>\n",
       "    <tr style=\"text-align: right;\">\n",
       "      <th></th>\n",
       "      <th>cgpa</th>\n",
       "      <th>placement_exam_marks</th>\n",
       "      <th>placed</th>\n",
       "    </tr>\n",
       "  </thead>\n",
       "  <tbody>\n",
       "    <tr>\n",
       "      <th>0</th>\n",
       "      <td>7.19</td>\n",
       "      <td>26.0</td>\n",
       "      <td>1</td>\n",
       "    </tr>\n",
       "    <tr>\n",
       "      <th>1</th>\n",
       "      <td>7.46</td>\n",
       "      <td>38.0</td>\n",
       "      <td>1</td>\n",
       "    </tr>\n",
       "    <tr>\n",
       "      <th>2</th>\n",
       "      <td>7.54</td>\n",
       "      <td>40.0</td>\n",
       "      <td>1</td>\n",
       "    </tr>\n",
       "    <tr>\n",
       "      <th>3</th>\n",
       "      <td>6.42</td>\n",
       "      <td>8.0</td>\n",
       "      <td>1</td>\n",
       "    </tr>\n",
       "    <tr>\n",
       "      <th>4</th>\n",
       "      <td>7.23</td>\n",
       "      <td>17.0</td>\n",
       "      <td>0</td>\n",
       "    </tr>\n",
       "  </tbody>\n",
       "</table>\n",
       "</div>"
      ],
      "text/plain": [
       "   cgpa  placement_exam_marks  placed\n",
       "0  7.19                  26.0       1\n",
       "1  7.46                  38.0       1\n",
       "2  7.54                  40.0       1\n",
       "3  6.42                   8.0       1\n",
       "4  7.23                  17.0       0"
      ]
     },
     "execution_count": 51,
     "metadata": {},
     "output_type": "execute_result"
    }
   ],
   "source": [
    "data.head()"
   ]
  },
  {
   "cell_type": "code",
   "execution_count": 52,
   "id": "10f8c1c8",
   "metadata": {},
   "outputs": [],
   "source": [
    "data = data.drop(\"placed\",axis=1)"
   ]
  },
  {
   "cell_type": "code",
   "execution_count": 53,
   "id": "3f99051f",
   "metadata": {},
   "outputs": [],
   "source": [
    "data.rename(columns = {\"placement_exam_marks\":\"Packages\"},inplace= True)"
   ]
  },
  {
   "cell_type": "code",
   "execution_count": 227,
   "id": "93659673",
   "metadata": {},
   "outputs": [],
   "source": [
    "X = data.iloc[:,0:1]\n",
    "Y = data.iloc[:,-1]"
   ]
  },
  {
   "cell_type": "code",
   "execution_count": 228,
   "id": "3457b021",
   "metadata": {},
   "outputs": [],
   "source": [
    "X_train ,X_test ,Y_train ,Y_test = train_test_split(X,Y,random_state=0)"
   ]
  },
  {
   "cell_type": "code",
   "execution_count": 229,
   "id": "464b9a00",
   "metadata": {},
   "outputs": [
    {
     "data": {
      "text/html": [
       "<div>\n",
       "<style scoped>\n",
       "    .dataframe tbody tr th:only-of-type {\n",
       "        vertical-align: middle;\n",
       "    }\n",
       "\n",
       "    .dataframe tbody tr th {\n",
       "        vertical-align: top;\n",
       "    }\n",
       "\n",
       "    .dataframe thead th {\n",
       "        text-align: right;\n",
       "    }\n",
       "</style>\n",
       "<table border=\"1\" class=\"dataframe\">\n",
       "  <thead>\n",
       "    <tr style=\"text-align: right;\">\n",
       "      <th></th>\n",
       "      <th>cgpa</th>\n",
       "    </tr>\n",
       "  </thead>\n",
       "  <tbody>\n",
       "    <tr>\n",
       "      <th>253</th>\n",
       "      <td>6.98</td>\n",
       "    </tr>\n",
       "    <tr>\n",
       "      <th>667</th>\n",
       "      <td>7.17</td>\n",
       "    </tr>\n",
       "    <tr>\n",
       "      <th>85</th>\n",
       "      <td>6.03</td>\n",
       "    </tr>\n",
       "    <tr>\n",
       "      <th>969</th>\n",
       "      <td>6.86</td>\n",
       "    </tr>\n",
       "    <tr>\n",
       "      <th>75</th>\n",
       "      <td>6.77</td>\n",
       "    </tr>\n",
       "    <tr>\n",
       "      <th>...</th>\n",
       "      <td>...</td>\n",
       "    </tr>\n",
       "    <tr>\n",
       "      <th>835</th>\n",
       "      <td>6.67</td>\n",
       "    </tr>\n",
       "    <tr>\n",
       "      <th>192</th>\n",
       "      <td>6.67</td>\n",
       "    </tr>\n",
       "    <tr>\n",
       "      <th>629</th>\n",
       "      <td>8.15</td>\n",
       "    </tr>\n",
       "    <tr>\n",
       "      <th>559</th>\n",
       "      <td>6.61</td>\n",
       "    </tr>\n",
       "    <tr>\n",
       "      <th>684</th>\n",
       "      <td>8.02</td>\n",
       "    </tr>\n",
       "  </tbody>\n",
       "</table>\n",
       "<p>750 rows × 1 columns</p>\n",
       "</div>"
      ],
      "text/plain": [
       "     cgpa\n",
       "253  6.98\n",
       "667  7.17\n",
       "85   6.03\n",
       "969  6.86\n",
       "75   6.77\n",
       "..    ...\n",
       "835  6.67\n",
       "192  6.67\n",
       "629  8.15\n",
       "559  6.61\n",
       "684  8.02\n",
       "\n",
       "[750 rows x 1 columns]"
      ]
     },
     "execution_count": 229,
     "metadata": {},
     "output_type": "execute_result"
    }
   ],
   "source": [
    "X_train"
   ]
  },
  {
   "cell_type": "code",
   "execution_count": 230,
   "id": "a3bcccf0",
   "metadata": {},
   "outputs": [
    {
     "data": {
      "text/plain": [
       "253    76.0\n",
       "667    54.0\n",
       "85     28.0\n",
       "969    41.0\n",
       "75     56.0\n",
       "       ... \n",
       "835    65.0\n",
       "192    38.0\n",
       "629    11.0\n",
       "559    58.0\n",
       "684    67.0\n",
       "Name: Packages, Length: 750, dtype: float64"
      ]
     },
     "execution_count": 230,
     "metadata": {},
     "output_type": "execute_result"
    }
   ],
   "source": [
    "Y_train"
   ]
  },
  {
   "cell_type": "code",
   "execution_count": 231,
   "id": "3adbfbc1",
   "metadata": {},
   "outputs": [
    {
     "name": "stdout",
     "output_type": "stream",
     "text": [
      "(750, 1)\n",
      "(750,)\n"
     ]
    }
   ],
   "source": [
    "print(X_train.shape) \n",
    "print(Y_train.shape)"
   ]
  },
  {
   "cell_type": "code",
   "execution_count": 232,
   "id": "f113770b",
   "metadata": {
    "scrolled": true
   },
   "outputs": [
    {
     "data": {
      "text/plain": [
       "LinearRegression()"
      ]
     },
     "execution_count": 232,
     "metadata": {},
     "output_type": "execute_result"
    }
   ],
   "source": [
    "# using the linear Regression model of sklearn \n",
    "linear = LinearRegression()\n",
    "linear.fit(X_train,Y_train)"
   ]
  },
  {
   "cell_type": "code",
   "execution_count": 233,
   "id": "44480c20",
   "metadata": {},
   "outputs": [
    {
     "data": {
      "text/plain": [
       "array([-0.94740055])"
      ]
     },
     "execution_count": 233,
     "metadata": {},
     "output_type": "execute_result"
    }
   ],
   "source": [
    "linear.coef_"
   ]
  },
  {
   "cell_type": "code",
   "execution_count": 244,
   "id": "2a5c7151",
   "metadata": {},
   "outputs": [
    {
     "data": {
      "text/plain": [
       "39.05415876492664"
      ]
     },
     "execution_count": 244,
     "metadata": {},
     "output_type": "execute_result"
    }
   ],
   "source": [
    "linear.intercept_"
   ]
  },
  {
   "cell_type": "code",
   "execution_count": 253,
   "id": "c8fc3063",
   "metadata": {},
   "outputs": [
    {
     "data": {
      "text/plain": [
       "6.73"
      ]
     },
     "execution_count": 253,
     "metadata": {},
     "output_type": "execute_result"
    }
   ],
   "source": [
    "X_test.iloc[:,0].values[0]"
   ]
  },
  {
   "cell_type": "code",
   "execution_count": 273,
   "id": "43b18630",
   "metadata": {},
   "outputs": [
    {
     "data": {
      "text/plain": [
       "993    21.0\n",
       "859    22.0\n",
       "298    48.0\n",
       "553    17.0\n",
       "672    13.0\n",
       "       ... \n",
       "462     9.0\n",
       "356    50.0\n",
       "2      40.0\n",
       "478    36.0\n",
       "695    11.0\n",
       "Name: Packages, Length: 250, dtype: float64"
      ]
     },
     "execution_count": 273,
     "metadata": {},
     "output_type": "execute_result"
    }
   ],
   "source": [
    "Y_test"
   ]
  },
  {
   "cell_type": "code",
   "execution_count": 235,
   "id": "68f181b9",
   "metadata": {},
   "outputs": [
    {
     "data": {
      "text/plain": [
       "array([32.67815305, 32.87710716, 33.21817136, 31.98655064, 31.71180448,\n",
       "       32.71604907, 32.86763316, 32.99079523, 32.55499098, 32.31814084,\n",
       "       31.92970661, 32.15708274, 33.18974935, 32.69710106, 31.92970661,\n",
       "       31.36126628, 31.89181059, 31.88233658, 31.5602204 , 32.32761484,\n",
       "       31.79707053, 32.10971272, 33.78661169, 32.45077691, 31.49390236,\n",
       "       32.85815915, 32.49814694, 32.95289921, 32.29919283, 31.98655064,\n",
       "       32.73499708, 31.89181059, 31.42758432, 31.96760263, 31.66443446,\n",
       "       32.55499098, 32.88658117, 32.63078302, 32.33708885, 33.36975545,\n",
       "       32.30866683, 30.41386573, 32.71604907, 32.16655675, 32.9339512 ,\n",
       "       33.15185332, 32.48867294, 32.24234879, 32.35603686, 31.87286258,\n",
       "       33.25606738, 33.35080744, 32.24234879, 32.73499708, 33.33185943,\n",
       "       32.37498487, 33.15185332, 32.61183501, 32.64025702, 31.92023261,\n",
       "       32.34656285, 31.86338857, 31.79707053, 32.88658117, 32.75394509,\n",
       "       32.15708274, 31.64548644, 32.4223549 , 33.14237932, 33.25606738,\n",
       "       32.38445888, 32.65920504, 33.17080133, 33.13290531, 32.40340689,\n",
       "       32.89605517, 33.46449551, 33.35080744, 32.52656896, 32.39393288,\n",
       "       32.2612968 , 32.64973103, 31.82549255, 32.54551697, 32.82973714,\n",
       "       32.7634191 , 31.75917451, 32.87710716, 32.61183501, 32.80131512,\n",
       "       32.81078912, 32.58341299, 32.87710716, 31.01072807, 31.98655064,\n",
       "       34.39294805, 31.35179227, 33.42659948, 32.98132122, 31.80654454,\n",
       "       33.30343741, 31.5696944 , 33.1139573 , 32.39393288, 31.97707664,\n",
       "       33.00026923, 31.81601854, 32.9339512 , 32.01497266, 32.02444667,\n",
       "       32.10971272, 32.32761484, 32.9434252 , 33.24659338, 31.70233048,\n",
       "       32.10971272, 33.03816526, 31.90128459, 32.19497877, 32.96237321,\n",
       "       33.72976766, 32.0812907 , 33.39817747, 31.52232437, 31.53179838,\n",
       "       31.83496656, 33.41712548, 32.33708885, 32.44130291, 32.10971272,\n",
       "       32.46972493, 32.83921114, 31.02020208, 31.66443446, 32.54551697,\n",
       "       32.0907647 , 32.40340689, 32.9434252 , 32.24234879, 33.05711327,\n",
       "       32.91500319, 32.88658117, 32.05286868, 31.98655064, 34.09925388,\n",
       "       32.50762095, 32.39393288, 32.14760874, 31.07704611, 31.33284426,\n",
       "       31.81601854, 31.98655064, 32.69710106, 32.57393899, 31.06757211,\n",
       "       33.20869736, 32.82026313, 32.18550476, 31.93918062, 31.54127238,\n",
       "       31.5696944 , 32.33708885, 32.81078912, 33.06658727, 32.07181669,\n",
       "       32.16655675, 32.2518228 , 32.39393288, 32.49814694, 33.08553528,\n",
       "       32.69710106, 32.4223549 , 32.34656285, 32.37498487, 31.00125407,\n",
       "       32.71604907, 32.18550476, 32.28024482, 32.21392678, 32.73499708,\n",
       "       32.10971272, 34.41189606, 32.75394509, 31.51285037, 33.15185332,\n",
       "       31.77812252, 32.90552918, 32.29919283, 31.41811031, 32.41288089,\n",
       "       33.16132733, 32.50762095, 31.99602465, 32.13813473, 32.72552307,\n",
       "       32.70657506, 32.55499098, 31.7402265 , 32.48867294, 30.97283205,\n",
       "       32.602361  , 33.30343741, 32.39393288, 32.4223549 , 31.62653843,\n",
       "       32.35603686, 31.68338247, 32.58341299, 31.92023261, 33.21817136,\n",
       "       32.19497877, 33.23711937, 30.99178006, 32.89605517, 31.64548644,\n",
       "       33.12343131, 33.61607959, 31.88233658, 32.80131512, 31.61706443,\n",
       "       33.15185332, 32.33708885, 31.3896883 , 31.73075249, 32.28971882,\n",
       "       33.25606738, 32.52656896, 32.69710106, 32.48867294, 31.99602465,\n",
       "       31.7402265 , 32.23287479, 32.04339468, 33.14237932, 31.84444056,\n",
       "       31.82549255, 32.0907647 , 33.07606128, 32.96237321, 32.13813473,\n",
       "       32.90552918, 33.54976156, 33.58765758, 32.54551697, 32.38445888,\n",
       "       32.69710106, 33.4550215 , 31.9107586 , 32.11918672, 32.65920504])"
      ]
     },
     "execution_count": 235,
     "metadata": {},
     "output_type": "execute_result"
    }
   ],
   "source": [
    "y_pred = linear.predict(X_test)\n",
    "y_pred"
   ]
  },
  {
   "cell_type": "code",
   "execution_count": 246,
   "id": "26a52219",
   "metadata": {},
   "outputs": [
    {
     "data": {
      "text/plain": [
       "19.017414241847273"
      ]
     },
     "execution_count": 246,
     "metadata": {},
     "output_type": "execute_result"
    }
   ],
   "source": [
    "np.sqrt(metrics.mean_squared_error(Y_test ,y_pred))"
   ]
  },
  {
   "cell_type": "code",
   "execution_count": 275,
   "id": "fca19edf",
   "metadata": {
    "scrolled": true
   },
   "outputs": [],
   "source": [
    "# Now Building My own linear regression model (SIMPLE One)\n",
    "\n",
    "class My_linear_reg:\n",
    "    def __init__(self):\n",
    "        self.m = None\n",
    "        self.b = None\n",
    "    def fit(self,x_train,y_train):\n",
    "        num = 0\n",
    "        n = 0\n",
    "        deno = 0\n",
    "        for i in range(x_train.shape[n]):\n",
    "            num = num + (x_train[i]-x_train.mean())*(y_train[i]-y_train.mean())\n",
    "            deno = deno +(x_train[i]-x_train.mean())**2\n",
    "        self.m = num/deno\n",
    "        self.b = (y_train.mean()) - (self.m*x_train.mean())\n",
    "        print(self.m)\n",
    "        print(self.b)\n",
    "    def predict(self,x_test):\n",
    "        l = []\n",
    "        for i in range(x_test.shape[0]):\n",
    "            l.append(x_test[i]*self.m + self.b)\n",
    "        return l"
   ]
  },
  {
   "cell_type": "code",
   "execution_count": 276,
   "id": "da6cc385",
   "metadata": {},
   "outputs": [
    {
     "data": {
      "text/plain": [
       "250"
      ]
     },
     "execution_count": 276,
     "metadata": {},
     "output_type": "execute_result"
    }
   ],
   "source": [
    "x_test.shape[0]"
   ]
  },
  {
   "cell_type": "code",
   "execution_count": 277,
   "id": "470141fa",
   "metadata": {},
   "outputs": [
    {
     "data": {
      "text/plain": [
       "range(0, 750)"
      ]
     },
     "execution_count": 277,
     "metadata": {},
     "output_type": "execute_result"
    }
   ],
   "source": [
    "range(x_train.shape[0])"
   ]
  },
  {
   "cell_type": "code",
   "execution_count": 278,
   "id": "ad15fcdb",
   "metadata": {},
   "outputs": [],
   "source": [
    "x = data.iloc[:,0].values\n",
    "y = data.iloc[:,-1].values"
   ]
  },
  {
   "cell_type": "code",
   "execution_count": 279,
   "id": "36dd9f6d",
   "metadata": {},
   "outputs": [],
   "source": [
    "x_train ,x_test ,y_train ,y_test = train_test_split(x,y,random_state=0)"
   ]
  },
  {
   "cell_type": "code",
   "execution_count": 280,
   "id": "4ebff9bd",
   "metadata": {},
   "outputs": [
    {
     "data": {
      "text/plain": [
       "array([6.98, 7.17, 6.03, 6.86, 6.77, 7.5 , 7.57, 7.65, 7.97])"
      ]
     },
     "execution_count": 280,
     "metadata": {},
     "output_type": "execute_result"
    }
   ],
   "source": [
    "x_train[0:9]"
   ]
  },
  {
   "cell_type": "code",
   "execution_count": 281,
   "id": "cee01025",
   "metadata": {},
   "outputs": [],
   "source": [
    "LE = My_linear_reg()"
   ]
  },
  {
   "cell_type": "code",
   "execution_count": 282,
   "id": "11f85dd6",
   "metadata": {},
   "outputs": [
    {
     "name": "stdout",
     "output_type": "stream",
     "text": [
      "-0.9474005524266186\n",
      "39.05415876492667\n"
     ]
    }
   ],
   "source": [
    "LE.fit(x_train,y_train)"
   ]
  },
  {
   "cell_type": "code",
   "execution_count": 283,
   "id": "2a75a307",
   "metadata": {},
   "outputs": [
    {
     "data": {
      "text/plain": [
       "32.67815304709553"
      ]
     },
     "execution_count": 283,
     "metadata": {},
     "output_type": "execute_result"
    }
   ],
   "source": [
    "LE.predict(x_test)[0]"
   ]
  },
  {
   "cell_type": "code",
   "execution_count": 284,
   "id": "f8d2e541",
   "metadata": {},
   "outputs": [
    {
     "data": {
      "text/plain": [
       "21.0"
      ]
     },
     "execution_count": 284,
     "metadata": {},
     "output_type": "execute_result"
    }
   ],
   "source": [
    "y_test[0]"
   ]
  },
  {
   "cell_type": "code",
   "execution_count": null,
   "id": "c77e40d3",
   "metadata": {},
   "outputs": [],
   "source": []
  },
  {
   "cell_type": "code",
   "execution_count": null,
   "id": "cb281b32",
   "metadata": {},
   "outputs": [],
   "source": []
  },
  {
   "cell_type": "code",
   "execution_count": null,
   "id": "88a13fe3",
   "metadata": {},
   "outputs": [],
   "source": []
  }
 ],
 "metadata": {
  "kernelspec": {
   "display_name": "Python 3 (ipykernel)",
   "language": "python",
   "name": "python3"
  },
  "language_info": {
   "codemirror_mode": {
    "name": "ipython",
    "version": 3
   },
   "file_extension": ".py",
   "mimetype": "text/x-python",
   "name": "python",
   "nbconvert_exporter": "python",
   "pygments_lexer": "ipython3",
   "version": "3.10.0"
  }
 },
 "nbformat": 4,
 "nbformat_minor": 5
}
